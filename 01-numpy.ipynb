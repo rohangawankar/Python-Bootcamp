{
 "cells": [
  {
   "cell_type": "markdown",
   "metadata": {},
   "source": [
    "# Numpy highlights\n",
    "\n",
    "* ndarray: fast and space-efficient multidimensional array with vectorized arithmetic and sophisticated broadcasting\n",
    "* standard vectorized math\n",
    "* reading / writing arrays to disk\n",
    "* memory-mapped file access\n",
    "* linear algebra, rng, fourier transform\n",
    "* Integration of C, C++, FORTRAN\n",
    "\n",
    "## Creating an ndarray\n",
    "\n",
    "### The `array` function\n",
    "\n",
    "The `array` function is the workhorse function for creating numpy ndarrays on the fly from other Python sequence like objects: primarily `tuple`s and `list`s."
   ]
  },
  {
   "cell_type": "code",
   "execution_count": 2,
   "metadata": {
    "collapsed": false
   },
   "outputs": [
    {
     "data": {
      "text/plain": [
       "array([0, 1, 2])"
      ]
     },
     "execution_count": 2,
     "metadata": {},
     "output_type": "execute_result"
    }
   ],
   "source": [
    "import numpy as np\n",
    "import random\n",
    "\n",
    "np.array(range(3))"
   ]
  },
  {
   "cell_type": "code",
   "execution_count": 2,
   "metadata": {
    "collapsed": false
   },
   "outputs": [
    {
     "data": {
      "text/plain": [
       "array([1, 2, 3])"
      ]
     },
     "execution_count": 2,
     "metadata": {},
     "output_type": "execute_result"
    }
   ],
   "source": [
    "np.array((1, 2, 3))"
   ]
  },
  {
   "cell_type": "code",
   "execution_count": 3,
   "metadata": {
    "collapsed": false
   },
   "outputs": [
    {
     "data": {
      "text/plain": [
       "array([1, 2, 3])"
      ]
     },
     "execution_count": 3,
     "metadata": {},
     "output_type": "execute_result"
    }
   ],
   "source": [
    "np.array([1, 2, 3])"
   ]
  },
  {
   "cell_type": "code",
   "execution_count": 4,
   "metadata": {
    "collapsed": false
   },
   "outputs": [
    {
     "data": {
      "text/plain": [
       "array(['h', 'e', 'l', 'l', 'o'], \n",
       "      dtype='<U1')"
      ]
     },
     "execution_count": 4,
     "metadata": {},
     "output_type": "execute_result"
    }
   ],
   "source": [
    "np.array(list('hello'))"
   ]
  },
  {
   "cell_type": "markdown",
   "metadata": {},
   "source": [
    "Nested lists are treated as multi-dimensional arrays."
   ]
  },
  {
   "cell_type": "code",
   "execution_count": 5,
   "metadata": {
    "collapsed": false
   },
   "outputs": [
    {
     "data": {
      "text/plain": [
       "[[4.844700289907117, 3.285473931529339, 2.1797684393413155],\n",
       " [5.824634396536993, 0.8824946651389621, 2.76732952458187],\n",
       " [1.8329068547314877, 4.527186437261438, 3.5724501538885134],\n",
       " [2.144914100647332, 4.951733405544532, 4.325440230285053]]"
      ]
     },
     "execution_count": 5,
     "metadata": {},
     "output_type": "execute_result"
    }
   ],
   "source": [
    "random.seed(3.141)\n",
    "dataList = [[random.uniform(0, 9) for x in range(3)]\n",
    "            for y in range(4)]\n",
    "dataList"
   ]
  },
  {
   "cell_type": "code",
   "execution_count": 6,
   "metadata": {
    "collapsed": false
   },
   "outputs": [
    {
     "data": {
      "text/plain": [
       "array([[ 4.84470029,  3.28547393,  2.17976844],\n",
       "       [ 5.8246344 ,  0.88249467,  2.76732952],\n",
       "       [ 1.83290685,  4.52718644,  3.57245015],\n",
       "       [ 2.1449141 ,  4.95173341,  4.32544023]])"
      ]
     },
     "execution_count": 6,
     "metadata": {},
     "output_type": "execute_result"
    }
   ],
   "source": [
    "data = np.array(dataList)\n",
    "data"
   ]
  },
  {
   "cell_type": "code",
   "execution_count": 7,
   "metadata": {
    "collapsed": false
   },
   "outputs": [
    {
     "name": "stdout",
     "output_type": "stream",
     "text": [
      "2\n",
      "(4, 3)\n",
      "float64\n"
     ]
    }
   ],
   "source": [
    "# Important information about an ndarray\n",
    "\n",
    "print(data.ndim)  # Number of dimensions\n",
    "print(data.shape) # Shape of the ndarray\n",
    "print(data.dtype) # Data type contained in the array"
   ]
  },
  {
   "cell_type": "markdown",
   "metadata": {},
   "source": [
    "### Other functions to create arrays\n",
    "\n",
    "#### `arange`\n",
    "\n",
    "This is equivalent to the range function, except returns a one-dimensional array instead of a range object: "
   ]
  },
  {
   "cell_type": "code",
   "execution_count": 8,
   "metadata": {
    "collapsed": false
   },
   "outputs": [
    {
     "data": {
      "text/plain": [
       "array([0, 1, 2, 3, 4, 5, 6, 7, 8, 9])"
      ]
     },
     "execution_count": 8,
     "metadata": {},
     "output_type": "execute_result"
    }
   ],
   "source": [
    "np.arange(10)"
   ]
  },
  {
   "cell_type": "markdown",
   "metadata": {},
   "source": [
    "#### `ones`, `ones_like`, `zeros`, `zeros_like`\n",
    "\n",
    "To create arrays filled with ones or zeroes with a given shape or with a shape similar to a given object:"
   ]
  },
  {
   "cell_type": "code",
   "execution_count": 9,
   "metadata": {
    "collapsed": false
   },
   "outputs": [
    {
     "data": {
      "text/plain": [
       "array([ 1.,  1.,  1.])"
      ]
     },
     "execution_count": 9,
     "metadata": {},
     "output_type": "execute_result"
    }
   ],
   "source": [
    "np.ones(3)"
   ]
  },
  {
   "cell_type": "code",
   "execution_count": 10,
   "metadata": {
    "collapsed": false
   },
   "outputs": [
    {
     "data": {
      "text/plain": [
       "array([[ 1.,  1.,  1.],\n",
       "       [ 1.,  1.,  1.],\n",
       "       [ 1.,  1.,  1.]])"
      ]
     },
     "execution_count": 10,
     "metadata": {},
     "output_type": "execute_result"
    }
   ],
   "source": [
    "np.ones((3, 3))"
   ]
  },
  {
   "cell_type": "code",
   "execution_count": 11,
   "metadata": {
    "collapsed": false
   },
   "outputs": [
    {
     "data": {
      "text/plain": [
       "array([ 0.,  0.,  0.,  0.])"
      ]
     },
     "execution_count": 11,
     "metadata": {},
     "output_type": "execute_result"
    }
   ],
   "source": [
    "np.zeros((4))"
   ]
  },
  {
   "cell_type": "code",
   "execution_count": 12,
   "metadata": {
    "collapsed": false
   },
   "outputs": [
    {
     "data": {
      "text/plain": [
       "array([[[ 0.,  0.,  0.,  0.],\n",
       "        [ 0.,  0.,  0.,  0.],\n",
       "        [ 0.,  0.,  0.,  0.],\n",
       "        [ 0.,  0.,  0.,  0.]],\n",
       "\n",
       "       [[ 0.,  0.,  0.,  0.],\n",
       "        [ 0.,  0.,  0.,  0.],\n",
       "        [ 0.,  0.,  0.,  0.],\n",
       "        [ 0.,  0.,  0.,  0.]],\n",
       "\n",
       "       [[ 0.,  0.,  0.,  0.],\n",
       "        [ 0.,  0.,  0.,  0.],\n",
       "        [ 0.,  0.,  0.,  0.],\n",
       "        [ 0.,  0.,  0.,  0.]],\n",
       "\n",
       "       [[ 0.,  0.,  0.,  0.],\n",
       "        [ 0.,  0.,  0.,  0.],\n",
       "        [ 0.,  0.,  0.,  0.],\n",
       "        [ 0.,  0.,  0.,  0.]]])"
      ]
     },
     "execution_count": 12,
     "metadata": {},
     "output_type": "execute_result"
    }
   ],
   "source": [
    "np.zeros((4, 4, 4))"
   ]
  },
  {
   "cell_type": "code",
   "execution_count": 13,
   "metadata": {
    "collapsed": false
   },
   "outputs": [
    {
     "data": {
      "text/plain": [
       "array([[ 1.,  1.,  1.],\n",
       "       [ 1.,  1.,  1.],\n",
       "       [ 1.,  1.,  1.],\n",
       "       [ 1.,  1.,  1.]])"
      ]
     },
     "execution_count": 13,
     "metadata": {},
     "output_type": "execute_result"
    }
   ],
   "source": [
    "np.ones_like(data)"
   ]
  },
  {
   "cell_type": "code",
   "execution_count": 14,
   "metadata": {
    "collapsed": false
   },
   "outputs": [
    {
     "data": {
      "text/plain": [
       "array([[ 0.,  0.,  0.],\n",
       "       [ 0.,  0.,  0.],\n",
       "       [ 0.,  0.,  0.],\n",
       "       [ 0.,  0.,  0.]])"
      ]
     },
     "execution_count": 14,
     "metadata": {},
     "output_type": "execute_result"
    }
   ],
   "source": [
    "np.zeros_like(data)"
   ]
  },
  {
   "cell_type": "markdown",
   "metadata": {},
   "source": [
    "#### empty, empty_like\n",
    "\n",
    "Just like `ones` and `zeros` but initializes an empty array with garbage values &mdash; **not zero**."
   ]
  },
  {
   "cell_type": "code",
   "execution_count": 15,
   "metadata": {
    "collapsed": false
   },
   "outputs": [
    {
     "data": {
      "text/plain": [
       "array([[  6.91635841e-310,   6.91636044e-310,   6.91635874e-310],\n",
       "       [  6.91635549e-310,   6.91635128e-310,   6.91635185e-310]])"
      ]
     },
     "execution_count": 15,
     "metadata": {},
     "output_type": "execute_result"
    }
   ],
   "source": [
    "np.empty((2, 3))"
   ]
  },
  {
   "cell_type": "code",
   "execution_count": 16,
   "metadata": {
    "collapsed": false
   },
   "outputs": [
    {
     "data": {
      "text/plain": [
       "array([[ 0.,  0.,  0.],\n",
       "       [ 0.,  0.,  0.],\n",
       "       [ 0.,  0.,  0.],\n",
       "       [ 0.,  0.,  0.]])"
      ]
     },
     "execution_count": 16,
     "metadata": {},
     "output_type": "execute_result"
    }
   ],
   "source": [
    "np.empty_like(data)"
   ]
  },
  {
   "cell_type": "markdown",
   "metadata": {},
   "source": [
    "The `ndarray` function is a lower level function to create numpy arrays with even more power. However, we do not explore that here.\n",
    "\n",
    "### Choosing a data type\n",
    "\n",
    "Most array creation functions take a `dtype` argument which can be used to explicitly specify the data type with which the array should be created."
   ]
  },
  {
   "cell_type": "code",
   "execution_count": 17,
   "metadata": {
    "collapsed": false
   },
   "outputs": [
    {
     "data": {
      "text/plain": [
       "array([[4, 3, 2],\n",
       "       [5, 0, 2],\n",
       "       [1, 4, 3],\n",
       "       [2, 4, 4]])"
      ]
     },
     "execution_count": 17,
     "metadata": {},
     "output_type": "execute_result"
    }
   ],
   "source": [
    "np.array(dataList, dtype=np.int) # Everything is truncated to integers "
   ]
  },
  {
   "cell_type": "code",
   "execution_count": 18,
   "metadata": {
    "collapsed": false
   },
   "outputs": [
    {
     "data": {
      "text/plain": [
       "array([[ 4.84470029,  3.28547393,  2.17976844],\n",
       "       [ 5.8246344 ,  0.88249467,  2.76732952],\n",
       "       [ 1.83290685,  4.52718644,  3.57245015],\n",
       "       [ 2.1449141 ,  4.95173341,  4.32544023]])"
      ]
     },
     "execution_count": 18,
     "metadata": {},
     "output_type": "execute_result"
    }
   ],
   "source": [
    "np.array(dataList, dtype=np.float)"
   ]
  },
  {
   "cell_type": "code",
   "execution_count": 19,
   "metadata": {
    "collapsed": false
   },
   "outputs": [
    {
     "data": {
      "text/plain": [
       "array([[ True,  True,  True],\n",
       "       [ True,  True,  True],\n",
       "       [ True,  True,  True],\n",
       "       [ True,  True,  True]], dtype=bool)"
      ]
     },
     "execution_count": 19,
     "metadata": {},
     "output_type": "execute_result"
    }
   ],
   "source": [
    "np.array(dataList, dtype=np.bool) # All numbers > 0 are True"
   ]
  },
  {
   "cell_type": "code",
   "execution_count": 20,
   "metadata": {
    "collapsed": false
   },
   "outputs": [
    {
     "data": {
      "text/plain": [
       "array([['4.844700289907117', '3.285473931529339', '2.1797684393413155'],\n",
       "       ['5.824634396536993', '0.8824946651389621', '2.76732952458187'],\n",
       "       ['1.8329068547314877', '4.527186437261438', '3.5724501538885134'],\n",
       "       ['2.144914100647332', '4.951733405544532', '4.325440230285053']], \n",
       "      dtype='<U18')"
      ]
     },
     "execution_count": 20,
     "metadata": {},
     "output_type": "execute_result"
    }
   ],
   "source": [
    "np.array(dataList, dtype=np.unicode_) # Unicode strings"
   ]
  },
  {
   "cell_type": "code",
   "execution_count": 21,
   "metadata": {
    "collapsed": false
   },
   "outputs": [
    {
     "data": {
      "text/plain": [
       "array([[4.844700289907117, 3.285473931529339, 2.1797684393413155],\n",
       "       [5.824634396536993, 0.8824946651389621, 2.76732952458187],\n",
       "       [1.8329068547314877, 4.527186437261438, 3.5724501538885134],\n",
       "       [2.144914100647332, 4.951733405544532, 4.325440230285053]], dtype=object)"
      ]
     },
     "execution_count": 21,
     "metadata": {},
     "output_type": "execute_result"
    }
   ],
   "source": [
    "np.array(dataList, dtype=np.object) # Arrays containing arbitrary objects."
   ]
  },
  {
   "cell_type": "code",
   "execution_count": 3,
   "metadata": {
    "collapsed": false
   },
   "outputs": [
    {
     "data": {
      "text/plain": [
       "array([3, 3.141, 'Pi'], dtype=object)"
      ]
     },
     "execution_count": 3,
     "metadata": {},
     "output_type": "execute_result"
    }
   ],
   "source": [
    "np.array([3, 3.141, 'Pi'], dtype=np.object)"
   ]
  },
  {
   "cell_type": "markdown",
   "metadata": {},
   "source": [
    "Numpy provides a richer typeset than this. One may choose integers and floats of various different sizes based on requirements. The details are available in the book. Please refer.\n",
    "\n",
    "### Casting to a data type\n",
    "\n",
    "A numpy `ndarray` carries an `astype` method which may be used to cast the elements of the array to a new type. Note that this operation always creates a copy of the original array even if the elements are being cast to the same data type. Let's look at a few examples."
   ]
  },
  {
   "cell_type": "code",
   "execution_count": 22,
   "metadata": {
    "collapsed": false
   },
   "outputs": [
    {
     "data": {
      "text/plain": [
       "array([[ 4.84470029,  3.28547393,  2.17976844],\n",
       "       [ 5.8246344 ,  0.88249467,  2.76732952],\n",
       "       [ 1.83290685,  4.52718644,  3.57245015],\n",
       "       [ 2.1449141 ,  4.95173341,  4.32544023]])"
      ]
     },
     "execution_count": 22,
     "metadata": {},
     "output_type": "execute_result"
    }
   ],
   "source": [
    "data"
   ]
  },
  {
   "cell_type": "code",
   "execution_count": 23,
   "metadata": {
    "collapsed": false
   },
   "outputs": [
    {
     "data": {
      "text/plain": [
       "array([[4, 3, 2],\n",
       "       [5, 0, 2],\n",
       "       [1, 4, 3],\n",
       "       [2, 4, 4]], dtype=int8)"
      ]
     },
     "execution_count": 23,
     "metadata": {},
     "output_type": "execute_result"
    }
   ],
   "source": [
    "data.astype(np.int8)"
   ]
  },
  {
   "cell_type": "code",
   "execution_count": 24,
   "metadata": {
    "collapsed": false
   },
   "outputs": [
    {
     "data": {
      "text/plain": [
       "array([[4, 3, 2],\n",
       "       [5, 0, 2],\n",
       "       [1, 4, 3],\n",
       "       [2, 4, 4]], dtype=uint32)"
      ]
     },
     "execution_count": 24,
     "metadata": {},
     "output_type": "execute_result"
    }
   ],
   "source": [
    "data.astype(np.uint32)"
   ]
  },
  {
   "cell_type": "code",
   "execution_count": 25,
   "metadata": {
    "collapsed": false
   },
   "outputs": [
    {
     "data": {
      "text/plain": [
       "array([[ 4.8447003,  3.2854739,  2.1797684],\n",
       "       [ 5.8246344,  0.88249467,  2.7673295],\n",
       "       [ 1.8329069,  4.5271864,  3.5724502],\n",
       "       [ 2.1449141,  4.9517334,  4.3254402]], dtype=float128)"
      ]
     },
     "execution_count": 25,
     "metadata": {},
     "output_type": "execute_result"
    }
   ],
   "source": [
    "data.astype(np.float128)"
   ]
  },
  {
   "cell_type": "code",
   "execution_count": 26,
   "metadata": {
    "collapsed": false
   },
   "outputs": [
    {
     "data": {
      "text/plain": [
       "array([[ 4.84470034+0.j,  3.28547382+0.j,  2.17976832+0.j],\n",
       "       [ 5.82463455+0.j,  0.88249469+0.j,  2.76732945+0.j],\n",
       "       [ 1.83290684+0.j,  4.52718639+0.j,  3.57245016+0.j],\n",
       "       [ 2.14491415+0.j,  4.95173359+0.j,  4.32544041+0.j]], dtype=complex64)"
      ]
     },
     "execution_count": 26,
     "metadata": {},
     "output_type": "execute_result"
    }
   ],
   "source": [
    "data.astype(np.complex64)"
   ]
  },
  {
   "cell_type": "code",
   "execution_count": 27,
   "metadata": {
    "collapsed": false
   },
   "outputs": [
    {
     "data": {
      "text/plain": [
       "array([[b'4.844700289907117', b'3.285473931529339', b'2.1797684393413155'],\n",
       "       [b'5.824634396536993', b'0.8824946651389621', b'2.76732952458187'],\n",
       "       [b'1.8329068547314877', b'4.527186437261438', b'3.5724501538885134'],\n",
       "       [b'2.144914100647332', b'4.951733405544532', b'4.325440230285053']], \n",
       "      dtype='|S32')"
      ]
     },
     "execution_count": 27,
     "metadata": {},
     "output_type": "execute_result"
    }
   ],
   "source": [
    "data.astype(np.string_)"
   ]
  },
  {
   "cell_type": "markdown",
   "metadata": {},
   "source": [
    "## Vectorized math\n",
    "\n",
    "Numpy's ndarrays allow concise mathematical expressions without the need for iteration using `for` loops: quite like R."
   ]
  },
  {
   "cell_type": "code",
   "execution_count": 28,
   "metadata": {
    "collapsed": false
   },
   "outputs": [
    {
     "data": {
      "text/plain": [
       "array([[  9.68940058,   6.57094786,   4.35953688],\n",
       "       [ 11.64926879,   1.76498933,   5.53465905],\n",
       "       [  3.66581371,   9.05437287,   7.14490031],\n",
       "       [  4.2898282 ,   9.90346681,   8.65088046]])"
      ]
     },
     "execution_count": 28,
     "metadata": {},
     "output_type": "execute_result"
    }
   ],
   "source": [
    "data + data"
   ]
  },
  {
   "cell_type": "code",
   "execution_count": 29,
   "metadata": {
    "collapsed": false
   },
   "outputs": [
    {
     "data": {
      "text/plain": [
       "array([[ 14.53410087,   9.85642179,   6.53930532],\n",
       "       [ 17.47390319,   2.647484  ,   8.30198857],\n",
       "       [  5.49872056,  13.58155931,  10.71735046],\n",
       "       [  6.4347423 ,  14.85520022,  12.97632069]])"
      ]
     },
     "execution_count": 29,
     "metadata": {},
     "output_type": "execute_result"
    }
   ],
   "source": [
    "data * 3"
   ]
  },
  {
   "cell_type": "code",
   "execution_count": 30,
   "metadata": {
    "collapsed": false
   },
   "outputs": [
    {
     "data": {
      "text/plain": [
       "array([[ 0.20641112,  0.30437009,  0.45876433],\n",
       "       [ 0.1716846 ,  1.13315133,  0.36135921],\n",
       "       [ 0.54558146,  0.22088774,  0.27991993],\n",
       "       [ 0.46621914,  0.20194948,  0.23119034]])"
      ]
     },
     "execution_count": 30,
     "metadata": {},
     "output_type": "execute_result"
    }
   ],
   "source": [
    "1 / data"
   ]
  },
  {
   "cell_type": "code",
   "execution_count": 31,
   "metadata": {
    "collapsed": false
   },
   "outputs": [
    {
     "data": {
      "text/plain": [
       "array([[16,  8,  4],\n",
       "       [32,  1,  4],\n",
       "       [ 2, 16,  8],\n",
       "       [ 4, 16, 16]])"
      ]
     },
     "execution_count": 31,
     "metadata": {},
     "output_type": "execute_result"
    }
   ],
   "source": [
    "2 ** data.astype(np.int)"
   ]
  },
  {
   "cell_type": "code",
   "execution_count": 7,
   "metadata": {
    "collapsed": false
   },
   "outputs": [
    {
     "data": {
      "text/plain": [
       "array([[  4.84470029,   6.57094786,   6.53930532],\n",
       "       [  5.8246344 ,   1.76498933,   8.30198857],\n",
       "       [  1.83290685,   9.05437287,  10.71735046],\n",
       "       [  2.1449141 ,   9.90346681,  12.97632069]])"
      ]
     },
     "execution_count": 7,
     "metadata": {},
     "output_type": "execute_result"
    }
   ],
   "source": [
    "data * [1, 2, 3] # Elementwise multiplication of columns"
   ]
  },
  {
   "cell_type": "code",
   "execution_count": 8,
   "metadata": {
    "collapsed": false
   },
   "outputs": [
    {
     "ename": "ValueError",
     "evalue": "operands could not be broadcast together with shapes (4,3) (4,) ",
     "output_type": "error",
     "traceback": [
      "\u001b[1;31m---------------------------------------------------------------------------\u001b[0m",
      "\u001b[1;31mValueError\u001b[0m                                Traceback (most recent call last)",
      "\u001b[1;32m<ipython-input-8-b987b88abfce>\u001b[0m in \u001b[0;36m<module>\u001b[1;34m()\u001b[0m\n\u001b[1;32m----> 1\u001b[1;33m \u001b[0mdata\u001b[0m \u001b[1;33m*\u001b[0m \u001b[1;33m[\u001b[0m\u001b[1;36m1\u001b[0m\u001b[1;33m,\u001b[0m \u001b[1;36m2\u001b[0m\u001b[1;33m,\u001b[0m \u001b[1;36m3\u001b[0m\u001b[1;33m,\u001b[0m \u001b[1;36m4\u001b[0m\u001b[1;33m]\u001b[0m\u001b[1;33m\u001b[0m\u001b[0m\n\u001b[0m",
      "\u001b[1;31mValueError\u001b[0m: operands could not be broadcast together with shapes (4,3) (4,) "
     ]
    }
   ],
   "source": [
    "data * [1, 2, 3, 4]"
   ]
  },
  {
   "cell_type": "code",
   "execution_count": 12,
   "metadata": {
    "collapsed": false
   },
   "outputs": [
    {
     "name": "stdout",
     "output_type": "stream",
     "text": [
      "[[1]\n",
      " [2]\n",
      " [3]\n",
      " [4]] \n",
      "\n",
      " (4, 1)\n"
     ]
    }
   ],
   "source": [
    "x = np.array([[1], [2], [3], [4]])\n",
    "print(x, \"\\n\\n\", x.shape)"
   ]
  },
  {
   "cell_type": "code",
   "execution_count": 9,
   "metadata": {
    "collapsed": false
   },
   "outputs": [
    {
     "data": {
      "text/plain": [
       "array([[  4.84470029,   3.28547393,   2.17976844],\n",
       "       [ 11.64926879,   1.76498933,   5.53465905],\n",
       "       [  5.49872056,  13.58155931,  10.71735046],\n",
       "       [  8.5796564 ,  19.80693362,  17.30176092]])"
      ]
     },
     "execution_count": 9,
     "metadata": {},
     "output_type": "execute_result"
    }
   ],
   "source": [
    "data * [[1], [2], [3], [4]] # Elementwise multiplication of rows"
   ]
  },
  {
   "cell_type": "code",
   "execution_count": 34,
   "metadata": {
    "collapsed": false
   },
   "outputs": [
    {
     "data": {
      "text/plain": [
       "array([[1, 0, 0],\n",
       "       [0, 2, 0],\n",
       "       [0, 0, 3]])"
      ]
     },
     "execution_count": 34,
     "metadata": {},
     "output_type": "execute_result"
    }
   ],
   "source": [
    "diag = np.diag([1, 2, 3])\n",
    "diag"
   ]
  },
  {
   "cell_type": "code",
   "execution_count": 35,
   "metadata": {
    "collapsed": false
   },
   "outputs": [
    {
     "ename": "ValueError",
     "evalue": "operands could not be broadcast together with shapes (4,3) (3,3) ",
     "output_type": "error",
     "traceback": [
      "\u001b[1;31m---------------------------------------------------------------------------\u001b[0m",
      "\u001b[1;31mValueError\u001b[0m                                Traceback (most recent call last)",
      "\u001b[1;32m<ipython-input-35-bda1f603c1b1>\u001b[0m in \u001b[0;36m<module>\u001b[1;34m()\u001b[0m\n\u001b[1;32m----> 1\u001b[1;33m \u001b[0mdata\u001b[0m \u001b[1;33m*\u001b[0m \u001b[0mdiag\u001b[0m \u001b[1;31m# Will not do matrix multiplication\u001b[0m\u001b[1;33m\u001b[0m\u001b[0m\n\u001b[0m",
      "\u001b[1;31mValueError\u001b[0m: operands could not be broadcast together with shapes (4,3) (3,3) "
     ]
    }
   ],
   "source": [
    "data * diag # Will not do matrix multiplication"
   ]
  },
  {
   "cell_type": "code",
   "execution_count": 36,
   "metadata": {
    "collapsed": false
   },
   "outputs": [
    {
     "data": {
      "text/plain": [
       "array([[  4.84470029,   6.57094786,   6.53930532],\n",
       "       [  5.8246344 ,   1.76498933,   8.30198857],\n",
       "       [  1.83290685,   9.05437287,  10.71735046],\n",
       "       [  2.1449141 ,   9.90346681,  12.97632069]])"
      ]
     },
     "execution_count": 36,
     "metadata": {},
     "output_type": "execute_result"
    }
   ],
   "source": [
    "np.dot(data, diag)"
   ]
  },
  {
   "cell_type": "code",
   "execution_count": 37,
   "metadata": {
    "collapsed": false
   },
   "outputs": [
    {
     "name": "stdout",
     "output_type": "stream",
     "text": [
      "[[ 2.20106799  1.81258763  1.47640389]\n",
      " [ 2.41342793  0.93941187  1.66352924]\n",
      " [ 1.3538489   2.1277186   1.89009263]\n",
      " [ 1.46455253  2.22524907  2.07976927]] \n",
      "\n",
      " [[ 1.57788538  1.18951091  0.77921865]\n",
      " [ 1.76209623 -0.12500254  1.01788278]\n",
      " [ 0.60590315  1.51010065  1.27325168]\n",
      " [ 0.76309951  1.5997377   1.46451392]] \n",
      "\n",
      " [[ 127.06519357   26.72164554    8.84425804]\n",
      " [ 338.53734003    2.4169216    15.91607372]\n",
      " [   6.25203402   92.49794585   35.60372097]\n",
      " [   8.54130751  141.4198896    75.59878641]]\n"
     ]
    }
   ],
   "source": [
    "print(np.sqrt(data), \"\\n\\n\", np.log(data), \"\\n\\n\", np.exp(data))"
   ]
  },
  {
   "cell_type": "markdown",
   "metadata": {},
   "source": [
    "In numpy parlance, these functions that apply the same operation on each of the elements of an array are called _universal functions_ or _ufuncs_. On the other hand, there are functions that return aggregations or other types of operations on ndarrays. Refer to McKinney (2012) for details."
   ]
  },
  {
   "cell_type": "code",
   "execution_count": 38,
   "metadata": {
    "collapsed": false
   },
   "outputs": [
    {
     "name": "stdout",
     "output_type": "stream",
     "text": [
      "41.1390324294 \n",
      "\n",
      " 0.882494665139 \n",
      "\n",
      " 5.82463439654 \n",
      "\n",
      " 3.42825270245\n"
     ]
    }
   ],
   "source": [
    "print(np.sum(data), \"\\n\\n\", np.min(data), \"\\n\\n\", np.max(data), \"\\n\\n\", np.mean(data))"
   ]
  },
  {
   "cell_type": "markdown",
   "metadata": {},
   "source": [
    "## Indexing ndarrays\n",
    "\n",
    "### Indexing by position\n",
    "\n",
    "`ndarray`s are collections of data of a given shape, size, and type. Indexing is the way to access elements, sub-collections of elements in a given `ndarray`.\n",
    "\n",
    "Numpy provides a rich set of indexing semantics that allow concise expression of various indexing operations.\n",
    "\n",
    "#### One-dimensional arrays\n",
    "\n",
    "The simplest indexing operation into any one dimension of a numpy `ndarray` mimics the semantics of Python's indexing operator `:`.\n",
    "\n",
    "Let's look at this using a one-dimensional array."
   ]
  },
  {
   "cell_type": "code",
   "execution_count": 39,
   "metadata": {
    "collapsed": false
   },
   "outputs": [
    {
     "data": {
      "text/plain": [
       "array([0, 1, 2, 3, 4, 5, 6, 7, 8, 9])"
      ]
     },
     "execution_count": 39,
     "metadata": {},
     "output_type": "execute_result"
    }
   ],
   "source": [
    "oneD = np.arange(10)\n",
    "oneD"
   ]
  },
  {
   "cell_type": "code",
   "execution_count": 40,
   "metadata": {
    "collapsed": false
   },
   "outputs": [
    {
     "name": "stdout",
     "output_type": "stream",
     "text": [
      "0\n",
      "[2 3]\n",
      "[0 1 2 3]\n",
      "[4 5 6 7 8 9]\n",
      "[1 3]\n",
      "[9 8 7 6 5 4 3 2 1 0]\n",
      "[0 1 2 3 4 5 6 7]\n"
     ]
    }
   ],
   "source": [
    "# Standard Python indexing: similar to lists and tuples\n",
    "\n",
    "print(oneD[0])     # 0-based indexing\n",
    "print(oneD[2:4])   # Indexing a range: excludes right limit\n",
    "print(oneD[:4])    # Indexing from the beginning implictly\n",
    "print(oneD[4:])    # Indexing to the end implicitly\n",
    "print(oneD[1:5:2]) # Indexing with jumps\n",
    "print(oneD[::-1])  # Reverting an array\n",
    "print(oneD[:-2])   # Negative indices to index from the end"
   ]
  },
  {
   "cell_type": "markdown",
   "metadata": {},
   "source": [
    "Indexing can be combined with the `=` operator to assign values in an `ndarray`."
   ]
  },
  {
   "cell_type": "code",
   "execution_count": 41,
   "metadata": {
    "collapsed": false
   },
   "outputs": [
    {
     "data": {
      "text/plain": [
       "array([ 0,  1,  2, 13,  4,  5,  6,  7,  8,  9])"
      ]
     },
     "execution_count": 41,
     "metadata": {},
     "output_type": "execute_result"
    }
   ],
   "source": [
    "oneD[3] = 13\n",
    "oneD"
   ]
  },
  {
   "cell_type": "code",
   "execution_count": 42,
   "metadata": {
    "collapsed": false
   },
   "outputs": [
    {
     "data": {
      "text/plain": [
       "array([ 0, 11, 12, 13,  4,  5,  6,  7,  8,  9])"
      ]
     },
     "execution_count": 42,
     "metadata": {},
     "output_type": "execute_result"
    }
   ],
   "source": [
    "oneD[1:3] = [11, 12]\n",
    "oneD"
   ]
  },
  {
   "cell_type": "code",
   "execution_count": 43,
   "metadata": {
    "collapsed": false
   },
   "outputs": [
    {
     "ename": "ValueError",
     "evalue": "cannot copy sequence with size 2 to array axis with dimension 3",
     "output_type": "error",
     "traceback": [
      "\u001b[1;31m---------------------------------------------------------------------------\u001b[0m",
      "\u001b[1;31mValueError\u001b[0m                                Traceback (most recent call last)",
      "\u001b[1;32m<ipython-input-43-23cdcaa9cc7d>\u001b[0m in \u001b[0;36m<module>\u001b[1;34m()\u001b[0m\n\u001b[1;32m----> 1\u001b[1;33m \u001b[0moneD\u001b[0m\u001b[1;33m[\u001b[0m\u001b[1;36m4\u001b[0m\u001b[1;33m:\u001b[0m\u001b[1;36m7\u001b[0m\u001b[1;33m]\u001b[0m \u001b[1;33m=\u001b[0m \u001b[1;33m[\u001b[0m\u001b[1;36m1\u001b[0m\u001b[1;33m,\u001b[0m \u001b[1;36m2\u001b[0m\u001b[1;33m]\u001b[0m \u001b[1;31m# The shape of the replacement must match\u001b[0m\u001b[1;33m\u001b[0m\u001b[0m\n\u001b[0m",
      "\u001b[1;31mValueError\u001b[0m: cannot copy sequence with size 2 to array axis with dimension 3"
     ]
    }
   ],
   "source": [
    "oneD[4:7] = [1, 2] # The shape of the replacement must match"
   ]
  },
  {
   "cell_type": "code",
   "execution_count": 44,
   "metadata": {
    "collapsed": false
   },
   "outputs": [
    {
     "data": {
      "text/plain": [
       "array([ 0, 11, 12, 13,  4,  5,  6, 20, 20,  9])"
      ]
     },
     "execution_count": 44,
     "metadata": {},
     "output_type": "execute_result"
    }
   ],
   "source": [
    "oneD[7:9] = 20 # Scalars are replicated to fill space\n",
    "oneD"
   ]
  },
  {
   "cell_type": "markdown",
   "metadata": {},
   "source": [
    "#### Aside: Indexing by position creates _views_\n",
    "\n",
    "Numpy intends to be conservative with memory usage and is designed such that indexing / slicing into an `ndarray` does not copy elements unless explicitly asked to. Therefore, slices are _views_ into the original array &mdash; the elements of a slice are the same as that of the original."
   ]
  },
  {
   "cell_type": "code",
   "execution_count": 45,
   "metadata": {
    "collapsed": false
   },
   "outputs": [
    {
     "data": {
      "text/plain": [
       "array([12, 13,  4])"
      ]
     },
     "execution_count": 45,
     "metadata": {},
     "output_type": "execute_result"
    }
   ],
   "source": [
    "oneDSlice = oneD[2:5]\n",
    "oneDSlice"
   ]
  },
  {
   "cell_type": "markdown",
   "metadata": {},
   "source": [
    "Since the slice is just a view into the original `ndarray`, changes to the slice are also reflected into the original. Therefore code that works on slices must be careful with introducing any unwanted changes into the original `ndarray`."
   ]
  },
  {
   "cell_type": "code",
   "execution_count": 46,
   "metadata": {
    "collapsed": false
   },
   "outputs": [
    {
     "name": "stdout",
     "output_type": "stream",
     "text": [
      "[12 13 14]\n"
     ]
    },
    {
     "data": {
      "text/plain": [
       "array([ 0, 11, 12, 13, 14,  5,  6, 20, 20,  9])"
      ]
     },
     "execution_count": 46,
     "metadata": {},
     "output_type": "execute_result"
    }
   ],
   "source": [
    "oneDSlice[2] = 14\n",
    "print(oneDSlice)\n",
    "oneD"
   ]
  },
  {
   "cell_type": "markdown",
   "metadata": {},
   "source": [
    "To create an explicit copy of the view / slice, one may use the `copy` method available with an array. For example:"
   ]
  },
  {
   "cell_type": "code",
   "execution_count": 47,
   "metadata": {
    "collapsed": false
   },
   "outputs": [
    {
     "data": {
      "text/plain": [
       "array([12, 13, 14])"
      ]
     },
     "execution_count": 47,
     "metadata": {},
     "output_type": "execute_result"
    }
   ],
   "source": [
    "oneDCopy = oneD[2:5].copy()\n",
    "oneDCopy"
   ]
  },
  {
   "cell_type": "code",
   "execution_count": 48,
   "metadata": {
    "collapsed": false
   },
   "outputs": [
    {
     "name": "stdout",
     "output_type": "stream",
     "text": [
      "[12 13 24]\n"
     ]
    },
    {
     "data": {
      "text/plain": [
       "array([ 0, 11, 12, 13, 14,  5,  6, 20, 20,  9])"
      ]
     },
     "execution_count": 48,
     "metadata": {},
     "output_type": "execute_result"
    }
   ],
   "source": [
    "oneDCopy[2] = 24\n",
    "print(oneDCopy)\n",
    "oneD"
   ]
  },
  {
   "cell_type": "markdown",
   "metadata": {},
   "source": [
    "#### Indexing multi-dimensional arrays\n",
    "\n",
    "Multi-dimensional arrays differ from one-dimensional arrays because where elements of a one-dimensional array are themselves scalars, the elements of a multi-dimensional array are arrays themselves.\n",
    "\n",
    "For example, a two-dimensional array (or a matrix) can be considered as an array of row-arrays."
   ]
  },
  {
   "cell_type": "code",
   "execution_count": 49,
   "metadata": {
    "collapsed": false
   },
   "outputs": [
    {
     "data": {
      "text/plain": [
       "array([[ 4.84470029,  3.28547393,  2.17976844],\n",
       "       [ 5.8246344 ,  0.88249467,  2.76732952],\n",
       "       [ 1.83290685,  4.52718644,  3.57245015],\n",
       "       [ 2.1449141 ,  4.95173341,  4.32544023]])"
      ]
     },
     "execution_count": 49,
     "metadata": {},
     "output_type": "execute_result"
    }
   ],
   "source": [
    "data"
   ]
  },
  {
   "cell_type": "code",
   "execution_count": 50,
   "metadata": {
    "collapsed": false
   },
   "outputs": [
    {
     "data": {
      "text/plain": [
       "array([ 4.84470029,  3.28547393,  2.17976844])"
      ]
     },
     "execution_count": 50,
     "metadata": {},
     "output_type": "execute_result"
    }
   ],
   "source": [
    "row1 = data[0]\n",
    "row1"
   ]
  },
  {
   "cell_type": "markdown",
   "metadata": {},
   "source": [
    "However, a two-dimensional array can also be considered as an array of column-arrays. How do we access that first column for example?\n",
    "\n",
    "Numpy provides `n` indices into any arbitrary n-dimensional array. Any specific element in the `ndarray` can be accessed by specifying the position of the element along the `n` dimensions."
   ]
  },
  {
   "cell_type": "code",
   "execution_count": 51,
   "metadata": {
    "collapsed": false
   },
   "outputs": [
    {
     "data": {
      "text/plain": [
       "0.88249466513896213"
      ]
     },
     "execution_count": 51,
     "metadata": {},
     "output_type": "execute_result"
    }
   ],
   "source": [
    "data[1, 1] # Access the second diagonal element in 'data'"
   ]
  },
  {
   "cell_type": "code",
   "execution_count": 52,
   "metadata": {
    "collapsed": false
   },
   "outputs": [
    {
     "data": {
      "text/plain": [
       "array([ 3.28547393,  0.88249467,  4.52718644,  4.95173341])"
      ]
     },
     "execution_count": 52,
     "metadata": {},
     "output_type": "execute_result"
    }
   ],
   "source": [
    "data[:, 1] # Access the second column where `:` stands for all rows"
   ]
  },
  {
   "cell_type": "code",
   "execution_count": 53,
   "metadata": {
    "collapsed": false
   },
   "outputs": [
    {
     "data": {
      "text/plain": [
       "array([ 1.83290685,  4.52718644,  3.57245015])"
      ]
     },
     "execution_count": 53,
     "metadata": {},
     "output_type": "execute_result"
    }
   ],
   "source": [
    "data[2, :] # Access the second row"
   ]
  },
  {
   "cell_type": "code",
   "execution_count": 54,
   "metadata": {
    "collapsed": false
   },
   "outputs": [
    {
     "data": {
      "text/plain": [
       "array([[ 4.84470029,  3.28547393,  2.17976844],\n",
       "       [ 5.8246344 ,  0.88249467,  2.76732952]])"
      ]
     },
     "execution_count": 54,
     "metadata": {},
     "output_type": "execute_result"
    }
   ],
   "source": [
    "data[:2, :] # First and second row, all columns"
   ]
  },
  {
   "cell_type": "code",
   "execution_count": 55,
   "metadata": {
    "collapsed": false
   },
   "outputs": [
    {
     "data": {
      "text/plain": [
       "array([[ 2.17976844,  3.28547393,  4.84470029],\n",
       "       [ 2.76732952,  0.88249467,  5.8246344 ]])"
      ]
     },
     "execution_count": 55,
     "metadata": {},
     "output_type": "execute_result"
    }
   ],
   "source": [
    "data[:2, ::-1] # First and second row, all columns reversed"
   ]
  },
  {
   "cell_type": "markdown",
   "metadata": {},
   "source": [
    "### Fancy Indexing\n",
    "\n",
    "All the position based indexing that we have seen till now uses `slice` objects to create views out of the `ndarray`s. Moreover, these `slice` objects create _views_ out of the ndarray instead of copying elements in the object.\n",
    "\n",
    "The `slice` based indexing notation however does not allow one to take values at an _arbitrary_ set of positions out of the array. For example, consider an array of ten elements with the problem of taking the first, the fourth, and the ninth element out of the array.\n",
    "\n",
    "These are the situations where 'fancy indexing' is used instead. An important thing to note is that fancy indexing does not create views into the existing array; instead they create a new `ndarray`, into which, the desired elements are copied. Therefore, fancy indexing should be avoided if one can use slices to index with."
   ]
  },
  {
   "cell_type": "code",
   "execution_count": 56,
   "metadata": {
    "collapsed": false
   },
   "outputs": [
    {
     "data": {
      "text/plain": [
       "array([[ 4.84470029,  3.28547393,  2.17976844],\n",
       "       [ 5.8246344 ,  0.88249467,  2.76732952],\n",
       "       [ 1.83290685,  4.52718644,  3.57245015],\n",
       "       [ 2.1449141 ,  4.95173341,  4.32544023]])"
      ]
     },
     "execution_count": 56,
     "metadata": {},
     "output_type": "execute_result"
    }
   ],
   "source": [
    "data"
   ]
  },
  {
   "cell_type": "code",
   "execution_count": 57,
   "metadata": {
    "collapsed": false
   },
   "outputs": [
    {
     "data": {
      "text/plain": [
       "array([[ 1.83290685,  4.52718644,  3.57245015],\n",
       "       [ 4.84470029,  3.28547393,  2.17976844],\n",
       "       [ 5.8246344 ,  0.88249467,  2.76732952]])"
      ]
     },
     "execution_count": 57,
     "metadata": {},
     "output_type": "execute_result"
    }
   ],
   "source": [
    "data[[2, 0, 1]]"
   ]
  },
  {
   "cell_type": "code",
   "execution_count": 58,
   "metadata": {
    "collapsed": false
   },
   "outputs": [
    {
     "data": {
      "text/plain": [
       "array([[ 2.17976844,  2.17976844,  4.84470029],\n",
       "       [ 2.76732952,  2.76732952,  5.8246344 ],\n",
       "       [ 3.57245015,  3.57245015,  1.83290685],\n",
       "       [ 4.32544023,  4.32544023,  2.1449141 ]])"
      ]
     },
     "execution_count": 58,
     "metadata": {},
     "output_type": "execute_result"
    }
   ],
   "source": [
    "data[:, [-1, 2, 0]]"
   ]
  },
  {
   "cell_type": "code",
   "execution_count": 59,
   "metadata": {
    "collapsed": false
   },
   "outputs": [
    {
     "data": {
      "text/plain": [
       "array([ 3.57245015,  2.17976844,  5.8246344 ])"
      ]
     },
     "execution_count": 59,
     "metadata": {},
     "output_type": "execute_result"
    }
   ],
   "source": [
    "data[[2, 0, 1], [-1, 2, 0]]"
   ]
  },
  {
   "cell_type": "code",
   "execution_count": 60,
   "metadata": {
    "collapsed": false
   },
   "outputs": [
    {
     "ename": "IndexError",
     "evalue": "shape mismatch: indexing arrays could not be broadcast together with shapes (3,) (2,) ",
     "output_type": "error",
     "traceback": [
      "\u001b[1;31m---------------------------------------------------------------------------\u001b[0m",
      "\u001b[1;31mIndexError\u001b[0m                                Traceback (most recent call last)",
      "\u001b[1;32m<ipython-input-60-acd922b1c9e9>\u001b[0m in \u001b[0;36m<module>\u001b[1;34m()\u001b[0m\n\u001b[1;32m----> 1\u001b[1;33m \u001b[0mdata\u001b[0m\u001b[1;33m[\u001b[0m\u001b[1;33m[\u001b[0m\u001b[1;36m2\u001b[0m\u001b[1;33m,\u001b[0m \u001b[1;36m0\u001b[0m\u001b[1;33m,\u001b[0m \u001b[1;36m1\u001b[0m\u001b[1;33m]\u001b[0m\u001b[1;33m,\u001b[0m \u001b[1;33m[\u001b[0m\u001b[1;33m-\u001b[0m\u001b[1;36m1\u001b[0m\u001b[1;33m,\u001b[0m \u001b[1;36m2\u001b[0m\u001b[1;33m]\u001b[0m\u001b[1;33m]\u001b[0m\u001b[1;33m\u001b[0m\u001b[0m\n\u001b[0m",
      "\u001b[1;31mIndexError\u001b[0m: shape mismatch: indexing arrays could not be broadcast together with shapes (3,) (2,) "
     ]
    }
   ],
   "source": [
    "data[[2, 0, 1], [-1, 2]]"
   ]
  },
  {
   "cell_type": "code",
   "execution_count": 61,
   "metadata": {
    "collapsed": false
   },
   "outputs": [
    {
     "data": {
      "text/plain": [
       "array([[ 3.57245015,  3.57245015],\n",
       "       [ 2.17976844,  2.17976844],\n",
       "       [ 2.76732952,  2.76732952]])"
      ]
     },
     "execution_count": 61,
     "metadata": {},
     "output_type": "execute_result"
    }
   ],
   "source": [
    "data[np.ix_([2, 0, 1], [-1, 2])]"
   ]
  },
  {
   "cell_type": "markdown",
   "metadata": {},
   "source": [
    "### Boolean indexing\n",
    "\n",
    "The indexing semantics that we have seen till now are useful when the position of the subset to be extracted is known. However, there are often situations where one wants to select a subset of a collection not based on some predicate.\n",
    "\n",
    "For example, in the following `data` ndarray &mdash; comprised of numbers between zero to nine, one may want to select elements that are less than 4. In such situations _boolean indexing_ comes useful."
   ]
  },
  {
   "cell_type": "code",
   "execution_count": 62,
   "metadata": {
    "collapsed": false
   },
   "outputs": [
    {
     "name": "stdout",
     "output_type": "stream",
     "text": [
      "[[ 4.84470029  3.28547393  2.17976844]\n",
      " [ 5.8246344   0.88249467  2.76732952]\n",
      " [ 1.83290685  4.52718644  3.57245015]\n",
      " [ 2.1449141   4.95173341  4.32544023]]\n"
     ]
    }
   ],
   "source": [
    "print(data) # Let's recap what is in data."
   ]
  },
  {
   "cell_type": "code",
   "execution_count": 63,
   "metadata": {
    "collapsed": false
   },
   "outputs": [
    {
     "data": {
      "text/plain": [
       "array([[ 4.84470029,  3.28547393,  2.17976844],\n",
       "       [ 1.83290685,  4.52718644,  3.57245015]])"
      ]
     },
     "execution_count": 63,
     "metadata": {},
     "output_type": "execute_result"
    }
   ],
   "source": [
    "data[np.array([True, False, True, False])] # Subset rows"
   ]
  },
  {
   "cell_type": "code",
   "execution_count": 64,
   "metadata": {
    "collapsed": false
   },
   "outputs": [
    {
     "data": {
      "text/plain": [
       "array([[ 4.84470029,  2.17976844],\n",
       "       [ 5.8246344 ,  2.76732952],\n",
       "       [ 1.83290685,  3.57245015],\n",
       "       [ 2.1449141 ,  4.32544023]])"
      ]
     },
     "execution_count": 64,
     "metadata": {},
     "output_type": "execute_result"
    }
   ],
   "source": [
    "data[:, np.array([True, False, True])] # Subset columns"
   ]
  },
  {
   "cell_type": "code",
   "execution_count": 65,
   "metadata": {
    "collapsed": false
   },
   "outputs": [
    {
     "data": {
      "text/plain": [
       "array([[ 5.8246344 ,  0.88249467,  2.76732952],\n",
       "       [ 2.1449141 ,  4.95173341,  4.32544023]])"
      ]
     },
     "execution_count": 65,
     "metadata": {},
     "output_type": "execute_result"
    }
   ],
   "source": [
    "data[-np.array([True, False, True, False])] # Invert bool array"
   ]
  },
  {
   "cell_type": "code",
   "execution_count": 66,
   "metadata": {
    "collapsed": false
   },
   "outputs": [
    {
     "data": {
      "text/plain": [
       "array([[ 5.8246344 ,  0.88249467,  2.76732952],\n",
       "       [ 2.1449141 ,  4.95173341,  4.32544023]])"
      ]
     },
     "execution_count": 66,
     "metadata": {},
     "output_type": "execute_result"
    }
   ],
   "source": [
    "data[~np.array([True, False, True, False])] # Invert bool array"
   ]
  },
  {
   "cell_type": "markdown",
   "metadata": {},
   "source": [
    "Unlike for numerical indices, if the shape of the boolean indexing array does not match the shape of the array being indexed, then the values that are left out of the indexing array are considered to be False. Here is an example. **Best to avoid such indexing.**"
   ]
  },
  {
   "cell_type": "code",
   "execution_count": 21,
   "metadata": {
    "collapsed": false
   },
   "outputs": [
    {
     "name": "stdout",
     "output_type": "stream",
     "text": [
      "[ 4.84470029  3.57245015]\n",
      "1\n",
      "(2,)\n"
     ]
    }
   ],
   "source": [
    "x = data[np.array([True, False, True]), np.array([True, False, True])]\n",
    "print(x)\n",
    "print(x.ndim)\n",
    "print(x.shape)"
   ]
  },
  {
   "cell_type": "markdown",
   "metadata": {},
   "source": [
    "#### Aside: More on booleans\n",
    "\n",
    "Conditional operations on other arrays generate boolean arrays as well. For example:"
   ]
  },
  {
   "cell_type": "code",
   "execution_count": 68,
   "metadata": {
    "collapsed": false
   },
   "outputs": [
    {
     "data": {
      "text/plain": [
       "array([[False,  True,  True],\n",
       "       [False,  True,  True],\n",
       "       [ True, False,  True],\n",
       "       [ True, False, False]], dtype=bool)"
      ]
     },
     "execution_count": 68,
     "metadata": {},
     "output_type": "execute_result"
    }
   ],
   "source": [
    "data < 4 # Returns an array of booleans"
   ]
  },
  {
   "cell_type": "markdown",
   "metadata": {},
   "source": [
    "These multidimensional arrays can be used to index other arrays but with surprising, yet, correct behavior. If conditional arrays are desired for conditional _assignments_, the `numpy.where` function is handy."
   ]
  },
  {
   "cell_type": "code",
   "execution_count": 69,
   "metadata": {
    "collapsed": false
   },
   "outputs": [
    {
     "data": {
      "text/plain": [
       "array([ 3.28547393,  2.17976844,  0.88249467,  2.76732952,  1.83290685,\n",
       "        3.57245015,  2.1449141 ])"
      ]
     },
     "execution_count": 69,
     "metadata": {},
     "output_type": "execute_result"
    }
   ],
   "source": [
    "data[data < 4] # Mangles the shape of the array"
   ]
  },
  {
   "cell_type": "code",
   "execution_count": 70,
   "metadata": {
    "collapsed": false
   },
   "outputs": [
    {
     "data": {
      "text/plain": [
       "array([[-4.84470029,  3.28547393,  2.17976844],\n",
       "       [-5.8246344 ,  0.88249467,  2.76732952],\n",
       "       [ 1.83290685, -4.52718644,  3.57245015],\n",
       "       [ 2.1449141 , -4.95173341, -4.32544023]])"
      ]
     },
     "execution_count": 70,
     "metadata": {},
     "output_type": "execute_result"
    }
   ],
   "source": [
    "np.where(data < 4, data, -data) # Use `where` for conditional assignments"
   ]
  },
  {
   "cell_type": "markdown",
   "metadata": {},
   "source": [
    "##### Logical combinations on booleans\n",
    "\n",
    "Numpy provides the standard logical operations: _and_ (`&`), _or_ (`|`), and _not_ (`~`, `-`) that we have already seen in action. Besides, the symbolic operators, these logical operations are also provided as functions in the numpy library."
   ]
  },
  {
   "cell_type": "code",
   "execution_count": 71,
   "metadata": {
    "collapsed": false
   },
   "outputs": [
    {
     "data": {
      "text/plain": [
       "array([ True,  True,  True,  True], dtype=bool)"
      ]
     },
     "execution_count": 71,
     "metadata": {},
     "output_type": "execute_result"
    }
   ],
   "source": [
    "np.array([True, False, True, False]) | np.array([True] * 4)"
   ]
  },
  {
   "cell_type": "code",
   "execution_count": 72,
   "metadata": {
    "collapsed": false
   },
   "outputs": [
    {
     "data": {
      "text/plain": [
       "array([ True, False,  True, False], dtype=bool)"
      ]
     },
     "execution_count": 72,
     "metadata": {},
     "output_type": "execute_result"
    }
   ],
   "source": [
    "np.array([True, False, True, False]) & np.array([True] * 4)"
   ]
  },
  {
   "cell_type": "code",
   "execution_count": 73,
   "metadata": {
    "collapsed": false
   },
   "outputs": [
    {
     "data": {
      "text/plain": [
       "array([ True,  True,  True,  True], dtype=bool)"
      ]
     },
     "execution_count": 73,
     "metadata": {},
     "output_type": "execute_result"
    }
   ],
   "source": [
    "np.logical_or(np.array([True, False] * 2), np.array([True] * 4))"
   ]
  },
  {
   "cell_type": "code",
   "execution_count": 74,
   "metadata": {
    "collapsed": false
   },
   "outputs": [
    {
     "data": {
      "text/plain": [
       "array([ True, False,  True, False], dtype=bool)"
      ]
     },
     "execution_count": 74,
     "metadata": {},
     "output_type": "execute_result"
    }
   ],
   "source": [
    "np.logical_and(np.array([True, False] * 2), np.array([True] * 4))"
   ]
  },
  {
   "cell_type": "code",
   "execution_count": 75,
   "metadata": {
    "collapsed": false
   },
   "outputs": [
    {
     "data": {
      "text/plain": [
       "array([False,  True], dtype=bool)"
      ]
     },
     "execution_count": 75,
     "metadata": {},
     "output_type": "execute_result"
    }
   ],
   "source": [
    "np.logical_not(np.array([True, False]))"
   ]
  },
  {
   "cell_type": "markdown",
   "metadata": {},
   "source": [
    "##### Logical aggregations\n",
    "\n",
    "Any array of logicals can be compressed to a single logical value based in two different ways: whether _all_ values in the array are true or _any_ values in the array are true. Python provides `.any()` and `.all()` methods on logical arrays to do these aggregations. For example:"
   ]
  },
  {
   "cell_type": "code",
   "execution_count": 76,
   "metadata": {
    "collapsed": false
   },
   "outputs": [
    {
     "data": {
      "text/plain": [
       "False"
      ]
     },
     "execution_count": 76,
     "metadata": {},
     "output_type": "execute_result"
    }
   ],
   "source": [
    "np.array([True, False, True, True]).all()"
   ]
  },
  {
   "cell_type": "code",
   "execution_count": 77,
   "metadata": {
    "collapsed": false
   },
   "outputs": [
    {
     "data": {
      "text/plain": [
       "True"
      ]
     },
     "execution_count": 77,
     "metadata": {},
     "output_type": "execute_result"
    }
   ],
   "source": [
    "np.array([True, False, True, True]).any()"
   ]
  },
  {
   "cell_type": "code",
   "execution_count": 78,
   "metadata": {
    "collapsed": false
   },
   "outputs": [
    {
     "data": {
      "text/plain": [
       "True"
      ]
     },
     "execution_count": 78,
     "metadata": {},
     "output_type": "execute_result"
    }
   ],
   "source": [
    "np.array([True, True, True, True]).all()"
   ]
  },
  {
   "cell_type": "code",
   "execution_count": 79,
   "metadata": {
    "collapsed": false
   },
   "outputs": [
    {
     "data": {
      "text/plain": [
       "False"
      ]
     },
     "execution_count": 79,
     "metadata": {},
     "output_type": "execute_result"
    }
   ],
   "source": [
    "np.array([False, False, False, False]).all()"
   ]
  },
  {
   "cell_type": "markdown",
   "metadata": {},
   "source": [
    "**Exercise**: Create a function which:\n",
    "1. `none`: When given a logical array returns `True` if all elements in the array are `False`.\n",
    "2. `notall`: When given a logical array returns `True` if any elements in the array are `False`.\n",
    "\n",
    "## Transposing arrays\n",
    "\n",
    "There are two ways to transpose a numpy array. Each array has a `.T` attribute which returns a _view_ which is the transpose of the original array. On the other hand, one may use the `numpy.transpose` to return a shallow transposed copy of the array.\n",
    "\n",
    "However, the thing of particular note is that each of these methods provide a view and one muse use the `.copy()` method to achieve a true copy. Transposing arrays is only one of the many places where the programmer needs to exercise special caution to ensure that there is no _action at a distance_ which can be the reason for many subtle bugs."
   ]
  },
  {
   "cell_type": "code",
   "execution_count": 80,
   "metadata": {
    "collapsed": false
   },
   "outputs": [
    {
     "data": {
      "text/plain": [
       "array([[ 4.84470029,  5.8246344 ,  1.83290685,  2.1449141 ],\n",
       "       [ 3.28547393,  0.88249467,  4.52718644,  4.95173341],\n",
       "       [ 2.17976844,  2.76732952,  3.57245015,  4.32544023]])"
      ]
     },
     "execution_count": 80,
     "metadata": {},
     "output_type": "execute_result"
    }
   ],
   "source": [
    "data.T"
   ]
  },
  {
   "cell_type": "code",
   "execution_count": 81,
   "metadata": {
    "collapsed": false
   },
   "outputs": [
    {
     "data": {
      "text/plain": [
       "array([[ 4.84470029,  5.8246344 ,  1.83290685,  2.1449141 ],\n",
       "       [ 3.28547393,  0.88249467,  4.52718644,  4.95173341],\n",
       "       [ 2.17976844,  2.76732952,  3.57245015,  4.32544023]])"
      ]
     },
     "execution_count": 81,
     "metadata": {},
     "output_type": "execute_result"
    }
   ],
   "source": [
    "np.transpose(data)"
   ]
  },
  {
   "cell_type": "code",
   "execution_count": 82,
   "metadata": {
    "collapsed": false
   },
   "outputs": [
    {
     "name": "stdout",
     "output_type": "stream",
     "text": [
      "[[ 4.84470029  5.8246344   1.83290685  2.1449141 ]\n",
      " [ 3.28547393  0.88249467  4.52718644  4.95173341]\n",
      " [ 2.17976844  2.76732952  3.57245015  4.32544023]]\n"
     ]
    }
   ],
   "source": [
    "# NB: Remember that the transpose is only a shallow copy: \n",
    "\n",
    "dataT = data.T\n",
    "print(dataT)"
   ]
  },
  {
   "cell_type": "code",
   "execution_count": 83,
   "metadata": {
    "collapsed": false
   },
   "outputs": [
    {
     "name": "stdout",
     "output_type": "stream",
     "text": [
      "[[ 4.84470029  3.28547393  2.17976844]\n",
      " [ 5.8246344   1.          2.76732952]\n",
      " [ 1.83290685  4.52718644  3.57245015]\n",
      " [ 2.1449141   4.95173341  4.32544023]]\n"
     ]
    }
   ],
   "source": [
    "dataT[1, 1] = 1\n",
    "print(data)"
   ]
  },
  {
   "cell_type": "markdown",
   "metadata": {},
   "source": [
    "Therefore, with numpy it is always better to use `.copy()` explicity when copies are desired (or take a careful read of the documentation). Let's look at an example:"
   ]
  },
  {
   "cell_type": "code",
   "execution_count": 84,
   "metadata": {
    "collapsed": false
   },
   "outputs": [
    {
     "name": "stdout",
     "output_type": "stream",
     "text": [
      "[[ 4.84470029  5.8246344   1.83290685  2.1449141 ]\n",
      " [ 3.28547393  2.          4.52718644  4.95173341]\n",
      " [ 2.17976844  2.76732952  3.57245015  4.32544023]] \n",
      "\n",
      " [[ 4.84470029  3.28547393  2.17976844]\n",
      " [ 5.8246344   1.          2.76732952]\n",
      " [ 1.83290685  4.52718644  3.57245015]\n",
      " [ 2.1449141   4.95173341  4.32544023]]\n"
     ]
    }
   ],
   "source": [
    "dataT2 = data.T.copy()\n",
    "dataT2[1, 1] = 2\n",
    "print(dataT2, \"\\n\\n\", data)"
   ]
  },
  {
   "cell_type": "markdown",
   "metadata": {},
   "source": [
    "## Reading from and writing to text files\n",
    "\n",
    "Numpy provides functions to read delimited text based datasets using two simple functions: `numpy.loadtxt` and `numpy.savetxt`. Let's look at a simple example."
   ]
  },
  {
   "cell_type": "code",
   "execution_count": 85,
   "metadata": {
    "collapsed": false
   },
   "outputs": [
    {
     "name": "stdout",
     "output_type": "stream",
     "text": [
      "3,4,5\r\n",
      "5,12,13\r\n",
      "15,8,17\r\n",
      "7,24,26\r\n",
      "21,20,29\r\n",
      "35,12,37\r\n",
      "9,40,41\r\n",
      "45,28,52\r\n",
      "11,60,61\r\n",
      "33,56,65\r\n"
     ]
    }
   ],
   "source": [
    "!head -10 ../../../data/pythagorean-triples.txt"
   ]
  },
  {
   "cell_type": "code",
   "execution_count": 22,
   "metadata": {
    "collapsed": false
   },
   "outputs": [
    {
     "name": "stdout",
     "output_type": "stream",
     "text": [
      "[[ 3  4  5]\n",
      " [ 5 12 13]\n",
      " [15  8 17]\n",
      " [ 7 24 26]\n",
      " [21 20 29]\n",
      " [35 12 37]\n",
      " [ 9 40 41]\n",
      " [45 28 52]\n",
      " [11 60 61]\n",
      " [33 56 65]] \n",
      "\n",
      " (101, 3)\n"
     ]
    }
   ],
   "source": [
    "# Load the pythagorean triples into a two dimensional array\n",
    "\n",
    "pyTrips = np.loadtxt(\"../../../data/pythagorean-triples.txt\", dtype=np.uint, delimiter=\",\")\n",
    "print(pyTrips[:10], \"\\n\\n\", pyTrips.shape)"
   ]
  },
  {
   "cell_type": "code",
   "execution_count": 23,
   "metadata": {
    "collapsed": false
   },
   "outputs": [
    {
     "data": {
      "text/plain": [
       "array([[  3,   4,   5],\n",
       "       [  5,  12,  13],\n",
       "       [ 15,   8,  17],\n",
       "       [  7,  24,  26],\n",
       "       [ 21,  20,  29],\n",
       "       [ 35,  12,  37],\n",
       "       [  9,  40,  41],\n",
       "       [ 45,  28,  52],\n",
       "       [ 11,  60,  61],\n",
       "       [ 33,  56,  65],\n",
       "       [ 63,  16,  65],\n",
       "       [ 55,  48,  73],\n",
       "       [ 13,  84,  85],\n",
       "       [ 77,  36,  86],\n",
       "       [ 39,  80,  89],\n",
       "       [ 65,  72,  97],\n",
       "       [ 99,  20, 101],\n",
       "       [ 91,  60, 109],\n",
       "       [ 15, 112, 111],\n",
       "       [117,  44, 125],\n",
       "       [105,  88, 137],\n",
       "       [ 17, 144, 145],\n",
       "       [143,  24, 145],\n",
       "       [ 51, 140, 147],\n",
       "       [ 85, 132, 157],\n",
       "       [119, 120, 169],\n",
       "       [165,  52, 173],\n",
       "       [ 19, 180, 181],\n",
       "       [ 57, 176, 185],\n",
       "       [153, 104, 185],\n",
       "       [ 95, 168, 193],\n",
       "       [195,  28, 199],\n",
       "       [133, 156, 205],\n",
       "       [187,  84, 205],\n",
       "       [ 21, 220, 221],\n",
       "       [171, 140, 221],\n",
       "       [221,  60, 229],\n",
       "       [105, 208, 235],\n",
       "       [209, 120, 241],\n",
       "       [255,  32, 257],\n",
       "       [ 23, 264, 265],\n",
       "       [247,  96, 265],\n",
       "       [ 69, 260, 269],\n",
       "       [115, 252, 271],\n",
       "       [231, 160, 281],\n",
       "       [161, 240, 289],\n",
       "       [285,  68, 293],\n",
       "       [207, 224, 305],\n",
       "       [273, 136, 305],\n",
       "       [ 25, 312, 313],\n",
       "       [ 75, 308, 317],\n",
       "       [253, 204, 325],\n",
       "       [323,  36, 325],\n",
       "       [175, 288, 337],\n",
       "       [299, 180, 349],\n",
       "       [225, 272, 353],\n",
       "       [ 27, 364, 368],\n",
       "       [357,  76, 365],\n",
       "       [275, 252, 373],\n",
       "       [135, 352, 377],\n",
       "       [345, 152, 379],\n",
       "       [189, 340, 389],\n",
       "       [325, 228, 397],\n",
       "       [399,  40, 401],\n",
       "       [391, 120, 409],\n",
       "       [ 29, 420, 421],\n",
       "       [ 87, 416, 425],\n",
       "       [297, 304, 425],\n",
       "       [145, 408, 433],\n",
       "       [203, 396, 445],\n",
       "       [437,  84, 445],\n",
       "       [351, 280, 449],\n",
       "       [425, 168, 457],\n",
       "       [261, 380, 465],\n",
       "       [ 31, 480, 481],\n",
       "       [319, 360, 481],\n",
       "       [ 93, 476, 485],\n",
       "       [483,  44, 485],\n",
       "       [155, 468, 493],\n",
       "       [475, 132, 493],\n",
       "       [217, 456, 505],\n",
       "       [377, 336, 505],\n",
       "       [459, 220, 590],\n",
       "       [279, 440, 521],\n",
       "       [435, 308, 533],\n",
       "       [525,  92, 533],\n",
       "       [341, 420, 541],\n",
       "       [ 33, 544, 545],\n",
       "       [513, 184, 545],\n",
       "       [165, 532, 557],\n",
       "       [403, 396, 565],\n",
       "       [493, 276, 556],\n",
       "       [231, 520, 569],\n",
       "       [575,  48, 577],\n",
       "       [465, 368, 593],\n",
       "       [551, 240, 601],\n",
       "       [ 35, 612, 613],\n",
       "       [105, 608, 617],\n",
       "       [527, 336, 627],\n",
       "       [429, 460, 629],\n",
       "       [621, 100, 629]], dtype=uint64)"
      ]
     },
     "execution_count": 23,
     "metadata": {},
     "output_type": "execute_result"
    }
   ],
   "source": [
    "pyTrips"
   ]
  },
  {
   "cell_type": "code",
   "execution_count": 25,
   "metadata": {
    "collapsed": false
   },
   "outputs": [],
   "source": [
    "?np.where"
   ]
  },
  {
   "cell_type": "markdown",
   "metadata": {},
   "source": [
    "## Exercise\n",
    "\n",
    "Using the array on Pythagorean triples loaded above, write numpy code to do the following:\n",
    "\n",
    "1. Create three arrays, viz. `baseSq`, `altitudeSq`, and `hypotenuseSq` respectively by squaring the first, second, and third columns of the `pyTrips` array.\n",
    "2. Use `numpy.where` and the three arrays created above to find which of these triples are not really Pythagorean.\n",
    "3. Count the number of non-Pythagorean triples."
   ]
  }
 ],
 "metadata": {
  "kernelspec": {
   "display_name": "Python 3",
   "language": "python",
   "name": "python3"
  },
  "language_info": {
   "codemirror_mode": {
    "name": "ipython",
    "version": 3
   },
   "file_extension": ".py",
   "mimetype": "text/x-python",
   "name": "python",
   "nbconvert_exporter": "python",
   "pygments_lexer": "ipython3",
   "version": "3.4.0"
  }
 },
 "nbformat": 4,
 "nbformat_minor": 0
}
